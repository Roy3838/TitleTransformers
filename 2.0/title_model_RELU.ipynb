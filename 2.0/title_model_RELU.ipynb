{
 "cells": [
  {
   "cell_type": "code",
   "execution_count": 1,
   "metadata": {},
   "outputs": [
    {
     "name": "stderr",
     "output_type": "stream",
     "text": [
      "2024-04-15 03:57:44.465820: E external/local_xla/xla/stream_executor/cuda/cuda_dnn.cc:9261] Unable to register cuDNN factory: Attempting to register factory for plugin cuDNN when one has already been registered\n",
      "2024-04-15 03:57:44.465856: E external/local_xla/xla/stream_executor/cuda/cuda_fft.cc:607] Unable to register cuFFT factory: Attempting to register factory for plugin cuFFT when one has already been registered\n",
      "2024-04-15 03:57:44.466873: E external/local_xla/xla/stream_executor/cuda/cuda_blas.cc:1515] Unable to register cuBLAS factory: Attempting to register factory for plugin cuBLAS when one has already been registered\n",
      "2024-04-15 03:57:45.090694: W tensorflow/compiler/tf2tensorrt/utils/py_utils.cc:38] TF-TRT Warning: Could not find TensorRT\n"
     ]
    }
   ],
   "source": [
    "\n",
    "# Sys imports\n",
    "import json\n",
    "import os\n",
    "import sys\n",
    "from tqdm import tqdm\n",
    "\n",
    "os.environ[\"KERAS_BACKEND\"] = \"jax\"\n",
    "\n",
    "# Training API\n",
    "import keras as keras\n",
    "from keras import layers\n",
    "import keras_nlp\n",
    "\n",
    "# Data manipulation and exploration\n",
    "import numpy as np\n",
    "from scipy.stats import shapiro, kurtosis\n",
    "\n",
    "# Data visualization\n",
    "from sklearn.model_selection import train_test_split\n",
    "import seaborn as sns\n",
    "import matplotlib.pyplot as plt\n",
    "\n",
    "# NLP\n",
    "from keras.preprocessing.sequence import pad_sequences\n",
    "from keras.utils import to_categorical\n",
    "import jax.numpy as jnp\n",
    "\n",
    "# MLOps API\n",
    "# import mlflow\n",
    "# mlflow.set_tracking_uri('http://localhost:5000')\n"
   ]
  },
  {
   "cell_type": "markdown",
   "metadata": {},
   "source": [
    "# EDA"
   ]
  },
  {
   "cell_type": "markdown",
   "metadata": {},
   "source": [
    "## Data loading\n",
    "There are 72M titles and views in the data used."
   ]
  },
  {
   "cell_type": "code",
   "execution_count": 2,
   "metadata": {},
   "outputs": [
    {
     "name": "stderr",
     "output_type": "stream",
     "text": [
      "Processing: 1000000it [00:01, 594235.71it/s]\n"
     ]
    }
   ],
   "source": [
    "# DATA LOADER \n",
    "def parse_jsonl_optimized(filepath, num_lines_to_import=None):\n",
    "    titles = []\n",
    "    view_counts = []\n",
    "    with open(filepath, 'r', encoding='utf-8') as file:\n",
    "        for i, line in enumerate(tqdm(file, desc=\"Processing\")):\n",
    "            # Check if the specified number of lines has been reached (if specified)\n",
    "            if (num_lines_to_import is not None and i >= num_lines_to_import):\n",
    "                break\n",
    "            # Parse the current line\n",
    "            data = json.loads(line)\n",
    "            # Extract and store the title and view count\n",
    "            titles.append(data['title'])\n",
    "            view_counts.append(data['view_count'])\n",
    "    return titles, view_counts\n",
    "\n",
    "# Example usage: Import only the first 1000 lines from the file\n",
    "file_path = '/mnt/datassd/train_data.jsonl'\n",
    "num_lines_to_import = 1000000  # You can adjust this number as needed\n",
    "titles, view_counts = parse_jsonl_optimized(file_path, num_lines_to_import)"
   ]
  },
  {
   "cell_type": "markdown",
   "metadata": {},
   "source": [
    "## Create $Log_{10}(Data)$ and create tokenizer\n",
    "\n",
    "When views are analyzed on their own, the MSE loss function does not make a lot of sense, there is a lot of variation in the data.\n",
    "\n",
    "What's why we take $log_{10}$ to get the order of magnitude of the views ($10^x$)."
   ]
  },
  {
   "cell_type": "code",
   "execution_count": 3,
   "metadata": {},
   "outputs": [
    {
     "name": "stderr",
     "output_type": "stream",
     "text": [
      "/tmp/ipykernel_15673/1308870409.py:1: RuntimeWarning: divide by zero encountered in log10\n",
      "  log_view_count = np.where(np.log10(view_counts) == -np.inf, 0, np.log10(view_counts))\n"
     ]
    }
   ],
   "source": [
    "log_view_count = np.where(np.log10(view_counts) == -np.inf, 0, np.log10(view_counts))\n",
    "\n",
    "from transformers import BertTokenizer, BertModel\n",
    "from concurrent.futures import ThreadPoolExecutor\n",
    "\n",
    "# Load BERT tokanizer\n",
    "tokenizer = BertTokenizer.from_pretrained(\"bert-base-cased\")"
   ]
  },
  {
   "cell_type": "markdown",
   "metadata": {},
   "source": [
    "Encoding all 70M datapoints takes ~45mins"
   ]
  },
  {
   "cell_type": "code",
   "execution_count": 4,
   "metadata": {},
   "outputs": [
    {
     "name": "stderr",
     "output_type": "stream",
     "text": [
      "Encoding: 100%|██████████████████████████████████████████████████████████████████████████████████████████████████████████████████████████████████████████████████████████| 1000000/1000000 [01:51<00:00, 8982.44it/s]\n"
     ]
    }
   ],
   "source": [
    "\"\"\" SINGLE THREADED  \"\"\"\n",
    "encoded_inputs = [tokenizer.encode(title, add_special_tokens=True) for title in tqdm(titles, total=len(titles), desc=\"Encoding\")]"
   ]
  },
  {
   "cell_type": "code",
   "execution_count": 6,
   "metadata": {},
   "outputs": [
    {
     "name": "stderr",
     "output_type": "stream",
     "text": [
      "/home/jay/.local/lib/python3.11/site-packages/numpy/lib/npyio.py:521: VisibleDeprecationWarning: Creating an ndarray from ragged nested sequences (which is a list-or-tuple of lists-or-tuples-or ndarrays with different lengths or shapes) is deprecated. If you meant to do this, you must specify 'dtype=object' when creating the ndarray.\n",
      "  arr = np.asanyarray(arr)\n"
     ]
    }
   ],
   "source": [
    "# save the encoded_inputs to disk\n",
    "np.save('encoded_inputs1m.npy', encoded_inputs)\n",
    "# save view counts to ensure that the order is preserved\n",
    "np.save('view_counts1m.npy', view_counts)"
   ]
  },
  {
   "cell_type": "code",
   "execution_count": null,
   "metadata": {},
   "outputs": [],
   "source": [
    "#\"\"\" SOMEWHAT MULTITHREADED \"\"\"\n",
    "#def encode_title(title):\n",
    "#    return tokenizer.encode(title, add_special_tokens=True)\n",
    "#with ThreadPoolExecutor() as executor:\n",
    "#    encoded_inputs = list(tqdm(executor.map(encode_title, titles), total=len(titles), desc=\"Encoding\"))"
   ]
  },
  {
   "cell_type": "markdown",
   "metadata": {},
   "source": [
    "In the context of title engagement, UPPER CASED titles correlate with engagement, it is important to use a CASED tokenizer."
   ]
  },
  {
   "cell_type": "code",
   "execution_count": 10,
   "metadata": {},
   "outputs": [
    {
     "name": "stdout",
     "output_type": "stream",
     "text": [
      "['IS', 'T', '##H', '##IS', 'TO', '##KE', '##N', 'Case', '##d', '?']\n"
     ]
    },
    {
     "data": {
      "text/plain": [
       "[101, 19432, 157, 3048, 6258, 16972, 22441, 2249, 9060, 1181, 136, 102]"
      ]
     },
     "execution_count": 10,
     "metadata": {},
     "output_type": "execute_result"
    }
   ],
   "source": [
    "# Testing cased inputs in tokenization\n",
    "titulos_raros = [r'IS THIS TOKEN Cased?']\n",
    "print(tokenizer.tokenize(titulos_raros[0]))\n",
    "tokenizer.encode(titulos_raros[0], add_special_tokens=True)\n"
   ]
  },
  {
   "cell_type": "code",
   "execution_count": 11,
   "metadata": {},
   "outputs": [],
   "source": [
    "bert = BertModel.from_pretrained('bert-base-cased')"
   ]
  },
  {
   "cell_type": "markdown",
   "metadata": {},
   "source": [
    "## Data Normalization tests\n",
    "\n",
    "First, let's see the distribution of view counts"
   ]
  },
  {
   "cell_type": "code",
   "execution_count": 12,
   "metadata": {},
   "outputs": [
    {
     "data": {
      "image/png": "[encoded data removed]",
      "text/plain": [
       "<Figure size 640x480 with 1 Axes>"
      ]
     },
     "metadata": {},
     "output_type": "display_data"
    }
   ],
   "source": [
    "# See Y view count distribution\n",
    "sns.histplot(log_view_count, kde=True)\n",
    "plt.title(\"Log of View Count Distribution\")\n",
    "plt.xlabel(\"Log of View Count\")\n",
    "plt.ylabel(\"Frequency\")\n",
    "plt.show()"
   ]
  },
  {
   "cell_type": "code",
   "execution_count": 13,
   "metadata": {},
   "outputs": [
    {
     "name": "stderr",
     "output_type": "stream",
     "text": [
      "/home/jay/.local/lib/python3.11/site-packages/scipy/stats/_morestats.py:1816: UserWarning: p-value may not be accurate for N > 5000.\n",
      "  warnings.warn(\"p-value may not be accurate for N > 5000.\")\n"
     ]
    },
    {
     "data": {
      "text/plain": [
       "(0.9953887462615967, 0.0, -0.09748136762154314)"
      ]
     },
     "execution_count": 13,
     "metadata": {},
     "output_type": "execute_result"
    }
   ],
   "source": [
    "shapiro_test_stat, shapiro_p_value = shapiro(log_view_count)\n",
    "kurtosis_value = kurtosis(log_view_count, fisher=True)\n",
    "\n",
    "shapiro_test_stat, shapiro_p_value, kurtosis_value"
   ]
  },
  {
   "cell_type": "code",
   "execution_count": 14,
   "metadata": {},
   "outputs": [
    {
     "name": "stdout",
     "output_type": "stream",
     "text": [
      "[8684, 21008, 4783, 2393, 4754]\n",
      "[3.93871981 4.32238471 3.67970038 3.3789427  3.67705918]\n"
     ]
    },
    {
     "data": {
      "text/plain": [
       "['Fortnite ITEM SHOP (NEW ROBOT SKIN) Fortnite Battle Royale',\n",
       " 'Fortnite Scanline Wrap Gameplay / Showcase! (Fortnite Battle Royale)',\n",
       " 'Fortnite ITEM SHOP (NEW BANNER SKINS) Fortnite Battle Royale',\n",
       " 'Fortnite DARE Skin Gameplay!',\n",
       " 'Fortnite Epic And Legendary Tactical Shotgun!']"
      ]
     },
     "execution_count": 14,
     "metadata": {},
     "output_type": "execute_result"
    }
   ],
   "source": [
    "sample_titles_i = 500000\n",
    "print(view_counts[sample_titles_i:sample_titles_i+5])\n",
    "print(log_view_count[sample_titles_i:sample_titles_i+5])\n",
    "titles[sample_titles_i:sample_titles_i+5]\n"
   ]
  },
  {
   "cell_type": "markdown",
   "metadata": {},
   "source": [
    "As you can see, some titles that look very similar have wildly different view counts.\n",
    "So, we're going to define some \"activation function\" to rescale the rewards of the model.\n",
    "This activation function needs to be centered at 4. Because anything with views<1000 is considered not good.\n",
    "Maybe the \"centerded-ness\" of the function can serve as a hyperparameter.\n",
    "\n",
    "Function chosen was ReLU modified to fit criteria Relu(highest_view) = 255\n",
    "so that the highest view matches exactly the highest output value of a neuron of 255\n",
    "\n",
    "to get the slope of the relu to match this criteria we can solve for slope on the following equation.\n",
    "\n",
    "$ReLU(x) = slope \\cdot (x - center) \\cdot (x>center) + \\epsilon$\n",
    "\n",
    "which when $ReLU(highest\\_value) = 255$ gives us a slope of \n",
    "\n",
    "$slope = \\frac{255-\\epsilon}{highest\\_value - center}$"
   ]
  },
  {
   "cell_type": "code",
   "execution_count": null,
   "metadata": {},
   "outputs": [],
   "source": [
    "def activation(x, center, epsilon, slope):\n",
    "    return  slope*(x-center) * (x>center) + epsilon    \n",
    "\n",
    "# Let's graph it to see what it looks like\n",
    "x = np.linspace(0, 10, 100)\n",
    "center = 4\n",
    "epsilon = 0.1\n",
    "\n",
    "# Get highest view\n",
    "highest_view = max(log_view_count)\n",
    "# See markdown above\n",
    "slope = (255-epsilon)/(highest_view-center)\n",
    "\n",
    "print(highest_view)\n",
    "\n",
    "plt.plot(x, activation(x, center, epsilon, slope))\n",
    "plt.axvline(x=center, color='r', linestyle='--')\n",
    "plt.text(center, 2, 'center', verticalalignment='bottom')\n",
    "plt.axhline(y=epsilon, color='r', linestyle='--')\n",
    "# Plot point (highest_view, 255)\n",
    "plt.plot(highest_view, activation(highest_view,center,epsilon,slope), 'ro')\n",
    "plt.text(highest_view, activation(highest_view,center,epsilon,slope), '(highest view, 255)', verticalalignment='bottom')\n",
    "plt.text(0, epsilon, 'epsilon', verticalalignment='bottom')\n",
    "plt.title(\"ReLU Activation Function\")\n",
    "plt.xlabel(\"Input\")\n",
    "plt.ylabel(\"Output\")\n",
    "plt.show()"
   ]
  },
  {
   "cell_type": "code",
   "execution_count": null,
   "metadata": {},
   "outputs": [],
   "source": [
    "ac_views = activation(log_view_count, center=center, epsilon=epsilon, slope = slope)\n",
    "sorted_ac_views = np.sort(ac_views)\n",
    "sorted_ac_views[:5], sorted_ac_views[-5:]"
   ]
  },
  {
   "cell_type": "markdown",
   "metadata": {},
   "source": [
    "Now let's see the ditribution of lenghts of titles.\n",
    "\n",
    "We need to have a cutoff at a certain token lenght. So let's visualize when it would be appropriate to cut titles off."
   ]
  },
  {
   "cell_type": "code",
   "execution_count": null,
   "metadata": {},
   "outputs": [],
   "source": [
    "sns.histplot([len(encoded_input) for encoded_input in encoded_inputs], bins=50)\n",
    "plt.title(\"Histogram of tokenized title lengths\")\n",
    "plt.xlabel(\"Length of tokenized title\")\n",
    "plt.ylabel(\"Number of titles\")\n",
    "plt.show()"
   ]
  },
  {
   "cell_type": "markdown",
   "metadata": {},
   "source": [
    "Probably at 40 tokens, the cutoff would preserve most of the information. (Remember YouTube titles have a 100 char limit)"
   ]
  },
  {
   "cell_type": "code",
   "execution_count": null,
   "metadata": {},
   "outputs": [],
   "source": [
    "max_length = 40  # Ensure your data is adjusted accordingly\n",
    "\n",
    "padded_inputs = pad_sequences(encoded_inputs, maxlen=max_length, padding='post', truncating='post')\n"
   ]
  },
  {
   "cell_type": "code",
   "execution_count": null,
   "metadata": {},
   "outputs": [],
   "source": [
    "# Just making sure, all inputs are the same length of 40 \n",
    "sns.histplot([len(padded_input) for padded_input in padded_inputs], bins=50)\n",
    "plt.title(\"Histogram of padded title lengths\")\n",
    "plt.xlabel(\"Length of padded title\")\n",
    "plt.ylabel(\"Number of titles\")\n",
    "plt.show()"
   ]
  },
  {
   "cell_type": "markdown",
   "metadata": {},
   "source": [
    "Some samples to see the PADs"
   ]
  },
  {
   "cell_type": "code",
   "execution_count": null,
   "metadata": {},
   "outputs": [],
   "source": [
    "sample = [tokenizer.decode(padded_input) for padded_input in padded_inputs[90:100]]\n",
    "sample"
   ]
  },
  {
   "cell_type": "code",
   "execution_count": null,
   "metadata": {},
   "outputs": [],
   "source": [
    "X_t = jnp.array(padded_inputs)\n",
    "Y_t = jnp.array(ac_views)\n",
    "\n",
    "vocab_size = 30522  # Adjusted to match BERT's vocabulary size for bert-base-cased\n",
    "embedding_dim = 768  # Standard BERT-base embedding dimension\n",
    "transformer_encoder_layers = 1  # Increase this for a larger model\n",
    "num_heads = 12  # Increase this for a larger model\n",
    "intermediate_dim = 768*2  # Dimensionality of the encoder layers and the pooler layer\n",
    "dropout_rate = 0.1  # Dropout rate for regularization\n"
   ]
  },
  {
   "cell_type": "code",
   "execution_count": null,
   "metadata": {},
   "outputs": [],
   "source": [
    "# Input layer\n",
    "inputs = keras.Input(shape=(max_length,), dtype='int32')\n",
    "\n",
    "# Embedding layer\n",
    "embedding_layer = keras_nlp.layers.TokenAndPositionEmbedding(\n",
    "    vocabulary_size=vocab_size, \n",
    "    sequence_length=max_length, \n",
    "    embedding_dim=embedding_dim,\n",
    ")\n",
    "\n",
    "x = embedding_layer(inputs)\n",
    "\n",
    "# Without embedding layer\n",
    "\n",
    "# x = inputs\n",
    "\n",
    "# Transformer blocks\n",
    "for _ in range(transformer_encoder_layers):\n",
    "    encoder = keras_nlp.layers.TransformerEncoder(\n",
    "        num_heads=num_heads,\n",
    "        intermediate_dim=intermediate_dim,\n",
    "        activation='relu',\n",
    "        dropout=dropout_rate,\n",
    "    )\n",
    "    x = encoder(x)\n",
    "\n",
    "# Pooling and output layers\n",
    "x = layers.GlobalAveragePooling1D()(x)\n",
    "x = layers.Dense(embedding_dim, activation='relu')(x)\n",
    "outputs = layers.Dense(1, activation='linear')(x)  # Use linear activation for regression\n",
    "\n",
    "# Model compilation\n",
    "model = keras.Model(inputs=inputs, outputs=outputs)\n",
    "model.compile(optimizer='adam', loss='mean_absolute_error', metrics=['mean_squared_error'])\n",
    "\n",
    "# Display the model's architecture\n",
    "model.summary()"
   ]
  },
  {
   "cell_type": "code",
   "execution_count": null,
   "metadata": {},
   "outputs": [],
   "source": [
    "class MlflowCallbackLogPerBatch(mlflow.keras_core.MLflowCallback):\n",
    "    def on_batch_end(self, batch, logs=None):\n",
    "        if self.log_every_n_steps is None or logs is None:\n",
    "            return\n",
    "        if (batch + 1) % self.log_every_n_steps == 0:\n",
    "            self.metrics_logger.record_metrics(logs, self._log_step)\n",
    "            self._log_step += self.log_every_n_steps\n",
    "\n",
    "\n",
    "with mlflow.start_run() as run:\n",
    "    model.fit(X_t, Y_t, batch_size=64, epochs=5, validation_split=0.2, callbacks= [MlflowCallbackLogPerBatch(run, log_every_epoch=False, log_every_n_steps=5)])\n",
    "mlflow.end_run()"
   ]
  },
  {
   "cell_type": "markdown",
   "metadata": {},
   "source": [
    "# Evaluation"
   ]
  },
  {
   "cell_type": "code",
   "execution_count": null,
   "metadata": {},
   "outputs": [],
   "source": [
    "# Load the eval dataset\n",
    "eval_file_path = '/mnt/datassd/train_data.jsonl'\n",
    "titles_eval, view_counts_eval = parse_jsonl_optimized(eval_file_path, num_lines_to_import*0.01)\n",
    "encoded_evals = [tokenizer.encode(title_ev, add_special_tokens=True) for title_ev in tqdm(titles_eval, total=len(titles_eval), desc=\"Encoding\")]\n",
    "padded_evals = pad_sequences(encoded_evals, maxlen=max_length, padding='post', truncating='post')\n",
    "view_evals = np.where(np.log10(view_counts_eval) == -np.inf, 0, np.log10(view_counts_eval))\n",
    "ac_views_evals = activation(view_evals, center=center, epsilon=epsilon, slope=slope)"
   ]
  },
  {
   "cell_type": "code",
   "execution_count": null,
   "metadata": {},
   "outputs": [],
   "source": [
    "Y_e = jnp.array(ac_views_evals)\n",
    "X_e = jnp.array(padded_evals)"
   ]
  },
  {
   "cell_type": "code",
   "execution_count": null,
   "metadata": {},
   "outputs": [],
   "source": [
    "Y_pred = model.predict(X_e)\n",
    "\n",
    "# Make scatter of predicted vs actual\n",
    "plt.scatter(Y_e, Y_pred)\n",
    "# Make a line\n",
    "plt.plot([0, 10], [0, 10], color='red')\n",
    "plt.title(\"Predicted vs Actual Score\")\n",
    "plt.xlabel(\"Actual Score View Count\")\n",
    "plt.ylabel(\"Predicted Score View Count\")\n",
    "plt.show()"
   ]
  },
  {
   "cell_type": "code",
   "execution_count": null,
   "metadata": {},
   "outputs": [],
   "source": [
    "Y_pred = Y_pred.flatten()\n",
    "Y_pred"
   ]
  },
  {
   "cell_type": "code",
   "execution_count": null,
   "metadata": {},
   "outputs": [],
   "source": [
    "# Arange titles by highest predicted view count\n",
    "sorted_titles = [title for _, title in sorted(zip(Y_pred, titles_eval), reverse=True)]\n",
    "sorted_titles[:50], sorted_titles[-50:]"
   ]
  }
 ],
 "metadata": {
  "kernelspec": {
   "display_name": "Python 3 (ipykernel)",
   "language": "python",
   "name": "python3"
  },
  "language_info": {
   "codemirror_mode": {
    "name": "ipython",
    "version": 3
   },
   "file_extension": ".py",
   "mimetype": "text/x-python",
   "name": "python",
   "nbconvert_exporter": "python",
   "pygments_lexer": "ipython3",
   "version": "3.11.8"
  }
 },
 "nbformat": 4,
 "nbformat_minor": 2
}
