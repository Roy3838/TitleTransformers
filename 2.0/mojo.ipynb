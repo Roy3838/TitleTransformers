{
 "cells": [
  {
   "cell_type": "code",
   "execution_count": 2,
   "metadata": {},
   "outputs": [
    {
     "name": "stdout",
     "output_type": "stream",
     "text": [
      "Unhandled exception caught during execution"
     ]
    },
    {
     "name": "stdout",
     "output_type": "stream",
     "text": [
      "Traceback (most recent call last):\n",
      "  File \"<string>\", line 6, in <module>\n",
      "  File \"<string>\", line 31, in <module>\n",
      "  File \"<string>\", line 17, in parse_jsonl_optimized\n",
      "TypeError: 'module' object is not callable\n",
      "Error: The Python expression raised an exception\n"
     ]
    }
   ],
   "source": [
    "%%python\n",
    "import json\n",
    "import tqdm\n",
    "\n",
    "# DATA LOADER \n",
    "def parse_jsonl_optimized(filepath, num_lines_to_import=None):\n",
    "    titles = []\n",
    "    view_counts = []\n",
    "    with open(filepath, 'r', encoding='utf-8') as file:\n",
    "        for i, line in enumerate(tqdm(file, desc=\"Processing\")):\n",
    "            # Check if the specified number of lines has been reached (if specified)\n",
    "            if (num_lines_to_import is not None and i >= num_lines_to_import):\n",
    "                break\n",
    "            # Parse the current line\n",
    "            data = json.loads(line)\n",
    "            # Extract and store the title and view count\n",
    "            titles.append(data['title'])\n",
    "            view_counts.append(data['view_count'])\n",
    "    return titles, view_counts\n",
    "\n",
    "# Example usage: Import only the first 1000 lines from the file\n",
    "file_path = '/mnt/datassd/train_data.jsonl'\n",
    "num_lines_to_import = 1000000  # You can adjust this number as needed\n",
    "titles, view_counts = parse_jsonl_optimized(file_path, num_lines_to_import)"
   ]
  }
 ],
 "metadata": {
  "kernelspec": {
   "display_name": "Mojo",
   "language": "mojo",
   "name": "mojo-jupyter-kernel"
  },
  "language_info": {
   "codemirror_mode": {
    "name": "mojo"
   },
   "file_extension": ".mojo",
   "mimetype": "text/x-mojo",
   "name": "mojo"
  }
 },
 "nbformat": 4,
 "nbformat_minor": 2
}
