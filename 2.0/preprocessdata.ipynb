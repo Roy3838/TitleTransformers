{
 "cells": [
  {
   "cell_type": "code",
   "execution_count": 1,
   "metadata": {},
   "outputs": [],
   "source": [
    "import os \n",
    "import json\n",
    "from tqdm import tqdm \n",
    "# SPLIT DATA INTO TRAIN AND TEST SETS\n"
   ]
  },
  {
   "cell_type": "code",
   "execution_count": 4,
   "metadata": {},
   "outputs": [
    {
     "name": "stderr",
     "output_type": "stream",
     "text": [
      "Processing: 85421645it [17:49, 79868.42it/s] \n"
     ]
    }
   ],
   "source": [
    "def process_large_jsonl(input_filepath, output_filepath):\n",
    "    with open(input_filepath, 'r', encoding='utf-8') as infile, \\\n",
    "         open(output_filepath, 'w', encoding='utf-8') as outfile:\n",
    "        i = 0\n",
    "        for line in tqdm(infile, desc='Processing'):\n",
    "            # Convert the string line to a dictionary\n",
    "            data = json.loads(line)\n",
    "            # Remove 'Music' videos\n",
    "            if 'Music' in data['categories']:\n",
    "                continue\n",
    "            # Extract the desired information, providing a default value if the key is not found\n",
    "            processed_data = {\n",
    "                'title': data.get('title', 'No Title'),\n",
    "                'view_count': data.get('view_count', 0)  # Assuming 0 as a default value for missing view_count\n",
    "            }\n",
    "            # Convert the processed data back to a JSON string and write to the output file\n",
    "            outfile.write(json.dumps(processed_data) + '\\n')\n",
    "\n",
    "# Make sure to replace the file paths with the correct ones for your environment.\n",
    "process_large_jsonl('/hdd/YT_Dataset/_raw_yt_metadata.jsonl', '/hdd/YT_Dataset/processed_file_NM.jsonl')\n",
    "\n"
   ]
  },
  {
   "cell_type": "code",
   "execution_count": null,
   "metadata": {},
   "outputs": [],
   "source": []
  },
  {
   "cell_type": "code",
   "execution_count": null,
   "metadata": {},
   "outputs": [],
   "source": [
    "def load_jsonl(filepath, train_fraction=0.8):\n",
    "    # Read all lines from the file\n",
    "    with open(filepath, 'r', encoding='utf-8') as file:\n",
    "        lines = file.readlines()\n",
    "\n",
    "    # Calculate split index\n",
    "    split_index = int(len(lines) * train_fraction)\n",
    "\n",
    "    # Split data\n",
    "    train_data = lines[:split_index]\n",
    "    test_data = lines[split_index:]\n",
    "\n",
    "    # Save the splits to separate files\n",
    "    train_filepath = os.path.join('/mnt/datassd', 'train_data.jsonl')\n",
    "    test_filepath = os.path.join('/mnt/datassd', 'test_data.jsonl')\n",
    "    \n",
    "    with open(train_filepath, 'w', encoding='utf-8') as train_file:\n",
    "        train_file.writelines(train_data)\n",
    "    \n",
    "    with open(test_filepath, 'w', encoding='utf-8') as test_file:\n",
    "        test_file.writelines(test_data)\n",
    "\n",
    "    return train_filepath, test_filepath\n",
    "\n",
    "# Assuming the file path as given by the user with a slight correction to fit the accessible directory\n",
    "file_path = '/mnt/datassd/processed_file_NM.jsonl'\n",
    "train_file_path, test_file_path = load_jsonl(file_path)"
   ]
  },
  {
   "cell_type": "code",
   "execution_count": 3,
   "metadata": {},
   "outputs": [],
   "source": [
    "import json\n",
    "from tqdm import tqdm\n",
    "\n",
    "\n",
    "# DATA LOADER\n",
    "def parse_jsonl_optimized(filepath):\n",
    "    titles = []\n",
    "    view_counts = []\n",
    "    with open(filepath, 'r', encoding='utf-8') as file:\n",
    "        for line in tqdm(file, desc=\"Processing\"):\n",
    "            # Parse the current line\n",
    "            data = json.loads(line)\n",
    "            # Extract and store the title and view count\n",
    "            titles.append(data['title'])\n",
    "            view_counts.append(data['view_count'])\n",
    "    return titles, view_counts\n",
    "\n",
    "# Assuming the file path is correctly specified\n",
    "file_path = '/mnt/data/train_data.jsonl'\n",
    "titles, view_counts = parse_jsonl_optimized(file_path)\n"
   ]
  }
 ],
 "metadata": {
  "kernelspec": {
   "display_name": "Python 3 (ipykernel)",
   "language": "python",
   "name": "python3"
  },
  "language_info": {
   "codemirror_mode": {
    "name": "ipython",
    "version": 3
   },
   "file_extension": ".py",
   "mimetype": "text/x-python",
   "name": "python",
   "nbconvert_exporter": "python",
   "pygments_lexer": "ipython3",
   "version": "3.11.8"
  }
 },
 "nbformat": 4,
 "nbformat_minor": 2
}
