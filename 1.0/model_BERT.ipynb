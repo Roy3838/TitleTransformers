{
 "cells": [
  {
   "cell_type": "code",
   "execution_count": 1,
   "metadata": {},
   "outputs": [
    {
     "name": "stderr",
     "output_type": "stream",
     "text": [
      "Processing:  84%|████████▍ | 44727499/53209647 [00:16<00:03, 2737385.50it/s]"
     ]
    }
   ],
   "source": [
    "import json\n",
    "import os\n",
    "import sys\n",
    "\n",
    "import json\n",
    "from tqdm import tqdm\n",
    "\n",
    "def load_jsonl_to_memory(filepath, fraction=10):\n",
    "    # Determine the total number of lines to calculate the size of the fraction\n",
    "    with open(filepath, 'r', encoding='utf-8') as file:\n",
    "        total_lines = sum(1 for _ in file)\n",
    "    \n",
    "    # Calculate the number of lines to process based on the fraction\n",
    "    lines_to_process = total_lines // fraction\n",
    "    \n",
    "    # Preallocate the list with None values for the fraction of data\n",
    "    data = [None] * lines_to_process\n",
    "    \n",
    "    with open(filepath, 'r', encoding='utf-8') as file:\n",
    "        processed_lines = 0  # Keep track of how many lines have been processed\n",
    "        for index, line in enumerate(tqdm(file, total=total_lines, desc=\"Processing\")):\n",
    "            if index % fraction == 0:  # Process only every fraction-th line\n",
    "                # Parse the JSON content from the line and add it to the data list\n",
    "                data[processed_lines] = json.loads(line)\n",
    "                processed_lines += 1\n",
    "                if processed_lines >= lines_to_process:\n",
    "                    break  # Stop if we've processed the intended number of lines\n",
    "    \n",
    "    return data\n",
    "\n",
    "data = load_jsonl_to_memory('/mnt/datassd/processed_file.jsonl')"
   ]
  },
  {
   "cell_type": "code",
   "execution_count": null,
   "metadata": {},
   "outputs": [],
   "source": [
    "# data in GB\n",
    "sys.getsizeof(data) / 1024**3"
   ]
  },
  {
   "cell_type": "code",
   "execution_count": null,
   "metadata": {},
   "outputs": [],
   "source": [
    "from transformers import AutoTokenizer\n",
    "from sklearn.model_selection import train_test_split\n",
    "import numpy as np\n",
    "\n",
    "# Initialize tokenizer\n",
    "tokenizer = AutoTokenizer.from_pretrained(\"bert-base-uncased\")\n",
    "\n",
    "# Function to tokenize a batch of titles\n",
    "def batch_encode(tokenizer, texts, batch_size=32, max_length=512):\n",
    "    batch_tokens = []\n",
    "    for i in range(0, len(texts), batch_size):\n",
    "        batch = texts[i:i+batch_size]\n",
    "        tokens = tokenizer(batch, max_length=max_length, padding='max_length', truncation=True, return_tensors=\"np\")\n",
    "        batch_tokens.append(tokens)\n",
    "    return batch_tokens\n",
    "\n",
    "# Data generator\n",
    "def data_generator(data, batch_size=32):\n",
    "    # Shuffle data\n",
    "    np.random.shuffle(data)\n",
    "    titles = [entry['title'] for entry in data]\n",
    "    view_counts = [entry['view_count'] for entry in data]\n",
    "    for i in range(0, len(titles), batch_size):\n",
    "        batch_titles = titles[i:i+batch_size]\n",
    "        batch_view_counts = view_counts[i:i+batch_size]\n",
    "        tokens = tokenizer(batch_titles, max_length=512, padding='max_length', truncation=True, return_tensors=\"np\")\n",
    "        yield tokens['input_ids'], np.array(batch_view_counts)\n",
    "\n",
    "# Split data into training and test sets\n",
    "train_data, test_data = train_test_split(data, test_size=0.2, random_state=42)\n",
    "\n",
    "# Example usage of the generator\n",
    "train_generator = data_generator(train_data, batch_size=8)\n"
   ]
  },
  {
   "cell_type": "code",
   "execution_count": null,
   "metadata": {},
   "outputs": [],
   "source": [
    "from transformers import TFAutoModel\n",
    "from tensorflow.keras.models import Model\n",
    "from tensorflow.keras.layers import Input, Dense\n",
    "from tensorflow.keras.optimizers import Adam\n",
    "\n",
    "os.environ[\"KERAS_BACKEND\"] = \"pytorch\"\n",
    "\n",
    "\n",
    "# Load pre-trained BERT model\n",
    "bert = TFAutoModel.from_pretrained(\"bert-base-uncased\")\n",
    "\n",
    "# Define input layer\n",
    "input_ids = Input(shape=(None,), dtype='int32')\n",
    "\n",
    "# Get BERT's output\n",
    "bert_output = bert(input_ids)[0]\n",
    "\n",
    "# Custom head for regression\n",
    "x = Dense(512, activation='relu')(bert_output[:, 0, :])\n",
    "output = Dense(1, activation='linear')(x)\n",
    "\n",
    "# Compile model\n",
    "model = Model(inputs=input_ids, outputs=output)\n",
    "model.compile(optimizer=Adam(learning_rate=1e-5), loss='mean_squared_error')\n",
    "\n",
    "model.summary()\n"
   ]
  },
  {
   "cell_type": "code",
   "execution_count": null,
   "metadata": {},
   "outputs": [],
   "source": [
    "# Calculate the number of steps per epoch for training\n",
    "train_steps = len(train_data) // 8  # Assuming batch_size=8\n",
    "val_steps = len(test_data) // 8  # Assuming batch_size=8 for validation as well\n",
    "\n",
    "# Train the model using the generator\n",
    "model.fit(train_generator, steps_per_epoch=train_steps, epochs=3)\n"
   ]
  },
  {
   "cell_type": "code",
   "execution_count": null,
   "metadata": {},
   "outputs": [],
   "source": [
    "model.evaluate(X_test, np.array(y_test))\n"
   ]
  }
 ],
 "metadata": {
  "kernelspec": {
   "display_name": "Python 3",
   "language": "python",
   "name": "python3"
  },
  "language_info": {
   "codemirror_mode": {
    "name": "ipython",
    "version": 3
   },
   "file_extension": ".py",
   "mimetype": "text/x-python",
   "name": "python",
   "nbconvert_exporter": "python",
   "pygments_lexer": "ipython3",
   "version": "3.11.7"
  }
 },
 "nbformat": 4,
 "nbformat_minor": 2
}
