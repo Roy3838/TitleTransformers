{
 "cells": [
  {
   "cell_type": "code",
   "execution_count": 7,
   "metadata": {
    "jukit_cell_id": "Y1ps5BQSbz"
   },
   "outputs": [],
   "source": [
    "import os\n",
    "os.environ[\"KERAS_BACKEND\"] = \"jax\""
   ]
  },
  {
   "cell_type": "code",
   "execution_count": 8,
   "metadata": {
    "jukit_cell_id": "oWVm17uamQ"
   },
   "outputs": [],
   "source": [
    "import tensorflow as tf\n",
    "import numpy as np\n",
    "import json\n",
    "from sklearn.model_selection import train_test_split\n",
    "from tqdm import tqdm\n",
    "\n",
    "def data_generator(filepath, tokenizer, batch_size=32, max_length=100, test_size=0.2):\n",
    "    \"\"\"\n",
    "    A generator function that yields batches of tokenized and padded sequences and their labels.\n",
    "    \n",
    "    Parameters:\n",
    "    - filepath: Path to the JSONL file.\n",
    "    - tokenizer: An instance of tf.keras.preprocessing.text.Tokenizer.\n",
    "    - batch_size: The number of samples to return in each batch.\n",
    "    - max_length: The maximum length of the sequences after padding.\n",
    "    - test_size: The proportion of the dataset to include in the test split.\n",
    "    \n",
    "    Yields:\n",
    "    - A tuple (batch_sequences, batch_labels), where:\n",
    "        - batch_sequences is a numpy array of tokenized and padded sequences.\n",
    "        - batch_labels is a numpy array of labels for each sequence in the batch.\n",
    "    \"\"\"\n",
    "    titles = []\n",
    "    view_counts = []\n",
    "\n",
    "    with open(filepath, 'r', encoding='utf-8') as file:\n",
    "        for line in tqdm(file, desc=\"Loading and processing data\"):\n",
    "            record = json.loads(line)\n",
    "            titles.append(record['title'])\n",
    "            view_counts.append(record['view_count'])\n",
    "            \n",
    "            if len(titles) == batch_size:\n",
    "                sequences = tokenizer.texts_to_sequences(titles)\n",
    "                padded_sequences = tf.keras.preprocessing.sequence.pad_sequences(sequences, maxlen=max_length, padding='post', truncating='post')\n",
    "                labels = np.log(np.array(view_counts, dtype=np.float32))\n",
    "                labels = np.where(labels == -np.inf, 0, labels)\n",
    "                \n",
    "                yield padded_sequences, labels\n",
    "                \n",
    "                titles = []\n",
    "                view_counts = []\n",
    "                \n",
    "    if titles:\n",
    "        sequences = tokenizer.texts_to_sequences(titles)\n",
    "        padded_sequences = tf.keras.preprocessing.sequence.pad_sequences(sequences, maxlen=max_length, padding='post', truncating='post')\n",
    "        labels = np.log(np.array(view_counts, dtype=np.float32))\n",
    "        labels = np.where(labels == -np.inf, 0, labels)\n",
    "        \n",
    "        yield padded_sequences, labels\n",
    "\n",
    "def sample_titles(filepath, sample_size=1000):\n",
    "    \"\"\"\n",
    "    Reads a sample of titles from a JSONL file.\n",
    "\n",
    "    Parameters:\n",
    "    - filepath: Path to the JSONL file.\n",
    "    - sample_size: Number of titles to sample.\n",
    "    \n",
    "    Returns:\n",
    "    - A list of sampled titles.\n",
    "    \"\"\"\n",
    "    titles = []\n",
    "    with open(filepath, 'r', encoding='utf-8') as file:\n",
    "        for line in file:\n",
    "            if len(titles) >= sample_size:\n",
    "                break\n",
    "            record = json.loads(line)\n",
    "            titles.append(record['title'])\n",
    "    return titles\n",
    "\n",
    "\n",
    "max_length = 100\n",
    "filepath = '/mnt/datassd/processed_file.jsonl'\n",
    "\n",
    "titles_sample = sample_titles(filepath)\n",
    "\n",
    "\n",
    "tokenizer = tf.keras.preprocessing.text.Tokenizer(num_words=10000, oov_token=\"<OOV>\")\n",
    "\n",
    "tokenizer.fit_on_texts(titles_sample)\n",
    "\n",
    "#tokenizer.fit_on_texts(titles)"
   ]
  },
  {
   "cell_type": "code",
   "execution_count": 9,
   "metadata": {
    "jukit_cell_id": "UZ5jTpSq96"
   },
   "outputs": [
    {
     "data": {
      "text/html": [
       "<pre style=\"white-space:pre;overflow-x:auto;line-height:normal;font-family:Menlo,'DejaVu Sans Mono',consolas,'Courier New',monospace\"><span style=\"font-weight: bold\">Model: \"functional_5\"</span>\n",
       "</pre>\n"
      ],
      "text/plain": [
       "\u001b[1mModel: \"functional_5\"\u001b[0m\n"
      ]
     },
     "metadata": {},
     "output_type": "display_data"
    },
    {
     "data": {
      "text/html": [
       "<pre style=\"white-space:pre;overflow-x:auto;line-height:normal;font-family:Menlo,'DejaVu Sans Mono',consolas,'Courier New',monospace\">┏━━━━━━━━━━━━━━━━━━━━━━━━━━━━━━━━━┳━━━━━━━━━━━━━━━━━━━━━━━━┳━━━━━━━━━━━━━━━┓\n",
       "┃<span style=\"font-weight: bold\"> Layer (type)                    </span>┃<span style=\"font-weight: bold\"> Output Shape           </span>┃<span style=\"font-weight: bold\">       Param # </span>┃\n",
       "┡━━━━━━━━━━━━━━━━━━━━━━━━━━━━━━━━━╇━━━━━━━━━━━━━━━━━━━━━━━━╇━━━━━━━━━━━━━━━┩\n",
       "│ input_layer_2 (<span style=\"color: #0087ff; text-decoration-color: #0087ff\">InputLayer</span>)      │ (<span style=\"color: #00d7ff; text-decoration-color: #00d7ff\">None</span>, <span style=\"color: #00af00; text-decoration-color: #00af00\">100</span>)            │             <span style=\"color: #00af00; text-decoration-color: #00af00\">0</span> │\n",
       "├─────────────────────────────────┼────────────────────────┼───────────────┤\n",
       "│ token_and_position_embedding_2  │ (<span style=\"color: #00d7ff; text-decoration-color: #00d7ff\">None</span>, <span style=\"color: #00af00; text-decoration-color: #00af00\">100</span>, <span style=\"color: #00af00; text-decoration-color: #00af00\">256</span>)       │     <span style=\"color: #00af00; text-decoration-color: #00af00\">2,585,600</span> │\n",
       "│ (<span style=\"color: #0087ff; text-decoration-color: #0087ff\">TokenAndPositionEmbedding</span>)     │                        │               │\n",
       "├─────────────────────────────────┼────────────────────────┼───────────────┤\n",
       "│ transformer_encoder_2           │ (<span style=\"color: #00d7ff; text-decoration-color: #00d7ff\">None</span>, <span style=\"color: #00af00; text-decoration-color: #00af00\">100</span>, <span style=\"color: #00af00; text-decoration-color: #00af00\">256</span>)       │       <span style=\"color: #00af00; text-decoration-color: #00af00\">527,104</span> │\n",
       "│ (<span style=\"color: #0087ff; text-decoration-color: #0087ff\">TransformerEncoder</span>)            │                        │               │\n",
       "├─────────────────────────────────┼────────────────────────┼───────────────┤\n",
       "│ global_max_pooling1d_2          │ (<span style=\"color: #00d7ff; text-decoration-color: #00d7ff\">None</span>, <span style=\"color: #00af00; text-decoration-color: #00af00\">256</span>)            │             <span style=\"color: #00af00; text-decoration-color: #00af00\">0</span> │\n",
       "│ (<span style=\"color: #0087ff; text-decoration-color: #0087ff\">GlobalMaxPooling1D</span>)            │                        │               │\n",
       "├─────────────────────────────────┼────────────────────────┼───────────────┤\n",
       "│ dense_4 (<span style=\"color: #0087ff; text-decoration-color: #0087ff\">Dense</span>)                 │ (<span style=\"color: #00d7ff; text-decoration-color: #00d7ff\">None</span>, <span style=\"color: #00af00; text-decoration-color: #00af00\">256</span>)            │        <span style=\"color: #00af00; text-decoration-color: #00af00\">65,792</span> │\n",
       "├─────────────────────────────────┼────────────────────────┼───────────────┤\n",
       "│ dense_5 (<span style=\"color: #0087ff; text-decoration-color: #0087ff\">Dense</span>)                 │ (<span style=\"color: #00d7ff; text-decoration-color: #00d7ff\">None</span>, <span style=\"color: #00af00; text-decoration-color: #00af00\">1</span>)              │           <span style=\"color: #00af00; text-decoration-color: #00af00\">257</span> │\n",
       "└─────────────────────────────────┴────────────────────────┴───────────────┘\n",
       "</pre>\n"
      ],
      "text/plain": [
       "┏━━━━━━━━━━━━━━━━━━━━━━━━━━━━━━━━━┳━━━━━━━━━━━━━━━━━━━━━━━━┳━━━━━━━━━━━━━━━┓\n",
       "┃\u001b[1m \u001b[0m\u001b[1mLayer (type)                   \u001b[0m\u001b[1m \u001b[0m┃\u001b[1m \u001b[0m\u001b[1mOutput Shape          \u001b[0m\u001b[1m \u001b[0m┃\u001b[1m \u001b[0m\u001b[1m      Param #\u001b[0m\u001b[1m \u001b[0m┃\n",
       "┡━━━━━━━━━━━━━━━━━━━━━━━━━━━━━━━━━╇━━━━━━━━━━━━━━━━━━━━━━━━╇━━━━━━━━━━━━━━━┩\n",
       "│ input_layer_2 (\u001b[38;5;33mInputLayer\u001b[0m)      │ (\u001b[38;5;45mNone\u001b[0m, \u001b[38;5;34m100\u001b[0m)            │             \u001b[38;5;34m0\u001b[0m │\n",
       "├─────────────────────────────────┼────────────────────────┼───────────────┤\n",
       "│ token_and_position_embedding_2  │ (\u001b[38;5;45mNone\u001b[0m, \u001b[38;5;34m100\u001b[0m, \u001b[38;5;34m256\u001b[0m)       │     \u001b[38;5;34m2,585,600\u001b[0m │\n",
       "│ (\u001b[38;5;33mTokenAndPositionEmbedding\u001b[0m)     │                        │               │\n",
       "├─────────────────────────────────┼────────────────────────┼───────────────┤\n",
       "│ transformer_encoder_2           │ (\u001b[38;5;45mNone\u001b[0m, \u001b[38;5;34m100\u001b[0m, \u001b[38;5;34m256\u001b[0m)       │       \u001b[38;5;34m527,104\u001b[0m │\n",
       "│ (\u001b[38;5;33mTransformerEncoder\u001b[0m)            │                        │               │\n",
       "├─────────────────────────────────┼────────────────────────┼───────────────┤\n",
       "│ global_max_pooling1d_2          │ (\u001b[38;5;45mNone\u001b[0m, \u001b[38;5;34m256\u001b[0m)            │             \u001b[38;5;34m0\u001b[0m │\n",
       "│ (\u001b[38;5;33mGlobalMaxPooling1D\u001b[0m)            │                        │               │\n",
       "├─────────────────────────────────┼────────────────────────┼───────────────┤\n",
       "│ dense_4 (\u001b[38;5;33mDense\u001b[0m)                 │ (\u001b[38;5;45mNone\u001b[0m, \u001b[38;5;34m256\u001b[0m)            │        \u001b[38;5;34m65,792\u001b[0m │\n",
       "├─────────────────────────────────┼────────────────────────┼───────────────┤\n",
       "│ dense_5 (\u001b[38;5;33mDense\u001b[0m)                 │ (\u001b[38;5;45mNone\u001b[0m, \u001b[38;5;34m1\u001b[0m)              │           \u001b[38;5;34m257\u001b[0m │\n",
       "└─────────────────────────────────┴────────────────────────┴───────────────┘\n"
      ]
     },
     "metadata": {},
     "output_type": "display_data"
    },
    {
     "data": {
      "text/html": [
       "<pre style=\"white-space:pre;overflow-x:auto;line-height:normal;font-family:Menlo,'DejaVu Sans Mono',consolas,'Courier New',monospace\"><span style=\"font-weight: bold\"> Total params: </span><span style=\"color: #00af00; text-decoration-color: #00af00\">3,178,753</span> (12.13 MB)\n",
       "</pre>\n"
      ],
      "text/plain": [
       "\u001b[1m Total params: \u001b[0m\u001b[38;5;34m3,178,753\u001b[0m (12.13 MB)\n"
      ]
     },
     "metadata": {},
     "output_type": "display_data"
    },
    {
     "data": {
      "text/html": [
       "<pre style=\"white-space:pre;overflow-x:auto;line-height:normal;font-family:Menlo,'DejaVu Sans Mono',consolas,'Courier New',monospace\"><span style=\"font-weight: bold\"> Trainable params: </span><span style=\"color: #00af00; text-decoration-color: #00af00\">3,178,753</span> (12.13 MB)\n",
       "</pre>\n"
      ],
      "text/plain": [
       "\u001b[1m Trainable params: \u001b[0m\u001b[38;5;34m3,178,753\u001b[0m (12.13 MB)\n"
      ]
     },
     "metadata": {},
     "output_type": "display_data"
    },
    {
     "data": {
      "text/html": [
       "<pre style=\"white-space:pre;overflow-x:auto;line-height:normal;font-family:Menlo,'DejaVu Sans Mono',consolas,'Courier New',monospace\"><span style=\"font-weight: bold\"> Non-trainable params: </span><span style=\"color: #00af00; text-decoration-color: #00af00\">0</span> (0.00 B)\n",
       "</pre>\n"
      ],
      "text/plain": [
       "\u001b[1m Non-trainable params: \u001b[0m\u001b[38;5;34m0\u001b[0m (0.00 B)\n"
      ]
     },
     "metadata": {},
     "output_type": "display_data"
    }
   ],
   "source": [
    "import mlflow\n",
    "import keras\n",
    "import keras_nlp\n",
    "from keras import layers\n",
    "\n",
    "vocab_size = 10000  # Adjust based on your vocabulary size\n",
    "embedding_dim = 256\n",
    "max_length = 100  # Adjust based on your titles' maximum length\n",
    "num_heads = 8  # Number of attention heads in the Transformer encoder\n",
    "intermediate_dim = 512  # Dimensionality of the encoder's intermediate (feed-forward) layer\n",
    "\n",
    "# Define input layer\n",
    "inputs = keras.Input(shape=(max_length,), dtype='int64')\n",
    "\n",
    "# Token and position embedding layer\n",
    "embedding_layer = keras_nlp.layers.TokenAndPositionEmbedding(\n",
    "    vocabulary_size=vocab_size,\n",
    "    sequence_length=max_length,\n",
    "    embedding_dim=embedding_dim,\n",
    ")\n",
    "x = embedding_layer(inputs)\n",
    "\n",
    "# Transformer encoder layer\n",
    "encoder = keras_nlp.layers.TransformerEncoder(\n",
    "    num_heads=num_heads,\n",
    "    intermediate_dim=intermediate_dim,\n",
    "    activation='relu',\n",
    "    dropout=0.1,\n",
    ")\n",
    "x = encoder(x)\n",
    "\n",
    "# GlobalMaxPooling1D layer for regression task\n",
    "x = layers.GlobalMaxPooling1D()(x)\n",
    "\n",
    "# Additional dense layers\n",
    "x = layers.Dense(256, activation='relu')(x)\n",
    "outputs = layers.Dense(1, activation='linear')(x)  # Linear activation for regression\n",
    "\n",
    "# Compile the model\n",
    "model = keras.Model(inputs=inputs, outputs=outputs)\n",
    "model.compile(optimizer=keras.optimizers.Adam(learning_rate=1e-4), loss='mean_squared_error')\n",
    "model.summary()"
   ]
  },
  {
   "cell_type": "code",
   "execution_count": 12,
   "metadata": {
    "jukit_cell_id": "NjVou6EDo0"
   },
   "outputs": [
    {
     "name": "stderr",
     "output_type": "stream",
     "text": [
      "Loading and processing data: 0it [00:00, ?it/s]/home/jay/.local/lib/python3.11/site-packages/keras/src/backend/jax/core.py:73: UserWarning: Explicitly requested dtype int64 requested in asarray is not available, and will be truncated to dtype int32. To enable more dtypes, set the jax_enable_x64 configuration option or the JAX_ENABLE_X64 shell environment variable. See https://github.com/google/jax#current-gotchas for more.\n",
      "  return jnp.asarray(x, dtype=dtype)\n"
     ]
    },
    {
     "name": "stdout",
     "output_type": "stream",
     "text": [
      "      1/Unknown \u001b[1m3s\u001b[0m 3s/step"
     ]
    },
    {
     "name": "stderr",
     "output_type": "stream",
     "text": [
      "Loading and processing data: 4it [00:02,  1.36it/s]"
     ]
    },
    {
     "name": "stdout",
     "output_type": "stream",
     "text": [
      "    250/Unknown \u001b[1m3s\u001b[0m 403us/step"
     ]
    },
    {
     "name": "stderr",
     "output_type": "stream",
     "text": [
      "Loading and processing data: 502it [00:03, 232.25it/s]"
     ]
    },
    {
     "name": "stdout",
     "output_type": "stream",
     "text": [
      "    504/Unknown \u001b[1m3s\u001b[0m 399us/step"
     ]
    },
    {
     "name": "stderr",
     "output_type": "stream",
     "text": [
      "Loading and processing data: 1010it [00:03, 533.41it/s]"
     ]
    },
    {
     "name": "stdout",
     "output_type": "stream",
     "text": [
      "    757/Unknown \u001b[1m3s\u001b[0m 398us/step"
     ]
    },
    {
     "name": "stderr",
     "output_type": "stream",
     "text": [
      "Loading and processing data: 1516it [00:03, 902.28it/s]"
     ]
    },
    {
     "name": "stdout",
     "output_type": "stream",
     "text": [
      "   1013/Unknown \u001b[1m3s\u001b[0m 396us/step"
     ]
    },
    {
     "name": "stderr",
     "output_type": "stream",
     "text": [
      "/tmp/ipykernel_19219/2918462333.py:35: RuntimeWarning: divide by zero encountered in log\n",
      "  labels = np.log(np.array(view_counts, dtype=np.float32))\n",
      "Loading and processing data: 2028it [00:03, 1341.59it/s]"
     ]
    },
    {
     "name": "stdout",
     "output_type": "stream",
     "text": [
      "   1291/Unknown \u001b[1m3s\u001b[0m 389us/step"
     ]
    },
    {
     "name": "stderr",
     "output_type": "stream",
     "text": [
      "Loading and processing data: 2584it [00:03, 1887.93it/s]"
     ]
    },
    {
     "name": "stdout",
     "output_type": "stream",
     "text": [
      "   1564/Unknown \u001b[1m4s\u001b[0m 385us/step"
     ]
    },
    {
     "name": "stderr",
     "output_type": "stream",
     "text": [
      "Loading and processing data: 3130it [00:03, 2444.00it/s]"
     ]
    },
    {
     "name": "stdout",
     "output_type": "stream",
     "text": [
      "   1838/Unknown \u001b[1m4s\u001b[0m 382us/step"
     ]
    },
    {
     "name": "stderr",
     "output_type": "stream",
     "text": [
      "Loading and processing data: 3678it [00:03, 2994.32it/s]"
     ]
    },
    {
     "name": "stdout",
     "output_type": "stream",
     "text": [
      "   2111/Unknown \u001b[1m4s\u001b[0m 380us/step"
     ]
    },
    {
     "name": "stderr",
     "output_type": "stream",
     "text": [
      "Loading and processing data: 4224it [00:03, 3501.65it/s]"
     ]
    },
    {
     "name": "stdout",
     "output_type": "stream",
     "text": [
      "   2381/Unknown \u001b[1m4s\u001b[0m 380us/step"
     ]
    },
    {
     "name": "stderr",
     "output_type": "stream",
     "text": [
      "Loading and processing data: 4764it [00:03, 3928.01it/s]"
     ]
    },
    {
     "name": "stdout",
     "output_type": "stream",
     "text": [
      "   2660/Unknown \u001b[1m4s\u001b[0m 378us/step"
     ]
    },
    {
     "name": "stderr",
     "output_type": "stream",
     "text": [
      "Loading and processing data: 5322it [00:03, 4326.47it/s]"
     ]
    },
    {
     "name": "stdout",
     "output_type": "stream",
     "text": [
      "   2940/Unknown \u001b[1m4s\u001b[0m 376us/step"
     ]
    },
    {
     "name": "stderr",
     "output_type": "stream",
     "text": [
      "Loading and processing data: 5882it [00:04, 4653.82it/s]"
     ]
    },
    {
     "name": "stdout",
     "output_type": "stream",
     "text": [
      "   3220/Unknown \u001b[1m4s\u001b[0m 374us/step"
     ]
    },
    {
     "name": "stderr",
     "output_type": "stream",
     "text": [
      "Loading and processing data: 6442it [00:04, 4903.49it/s]"
     ]
    },
    {
     "name": "stdout",
     "output_type": "stream",
     "text": [
      "   3501/Unknown \u001b[1m4s\u001b[0m 373us/step"
     ]
    },
    {
     "name": "stderr",
     "output_type": "stream",
     "text": [
      "Loading and processing data: 7004it [00:04, 5099.03it/s]"
     ]
    },
    {
     "name": "stdout",
     "output_type": "stream",
     "text": [
      "   3780/Unknown \u001b[1m4s\u001b[0m 372us/step"
     ]
    },
    {
     "name": "stderr",
     "output_type": "stream",
     "text": [
      "Loading and processing data: 7562it [00:04, 5227.08it/s]"
     ]
    },
    {
     "name": "stdout",
     "output_type": "stream",
     "text": [
      "   4063/Unknown \u001b[1m4s\u001b[0m 371us/step"
     ]
    },
    {
     "name": "stderr",
     "output_type": "stream",
     "text": [
      "Loading and processing data: 8128it [00:04, 5345.63it/s]"
     ]
    },
    {
     "name": "stdout",
     "output_type": "stream",
     "text": [
      "   4306/Unknown \u001b[1m5s\u001b[0m 373us/step"
     ]
    },
    {
     "name": "stderr",
     "output_type": "stream",
     "text": [
      "Loading and processing data: 8685it [00:04, 5183.89it/s]"
     ]
    },
    {
     "name": "stdout",
     "output_type": "stream",
     "text": [
      "   4546/Unknown \u001b[1m5s\u001b[0m 376us/step"
     ]
    },
    {
     "name": "stderr",
     "output_type": "stream",
     "text": [
      "Loading and processing data: 9220it [00:04, 5056.78it/s]"
     ]
    },
    {
     "name": "stdout",
     "output_type": "stream",
     "text": [
      "   4786/Unknown \u001b[1m5s\u001b[0m 378us/step"
     ]
    },
    {
     "name": "stderr",
     "output_type": "stream",
     "text": [
      "Loading and processing data: 9738it [00:04, 4972.85it/s]"
     ]
    },
    {
     "name": "stdout",
     "output_type": "stream",
     "text": [
      "   5025/Unknown \u001b[1m5s\u001b[0m 380us/step"
     ]
    },
    {
     "name": "stderr",
     "output_type": "stream",
     "text": [
      "Loading and processing data: 10244it [00:04, 4910.21it/s]"
     ]
    },
    {
     "name": "stdout",
     "output_type": "stream",
     "text": [
      "   5266/Unknown \u001b[1m5s\u001b[0m 381us/step"
     ]
    },
    {
     "name": "stderr",
     "output_type": "stream",
     "text": [
      "Loading and processing data: 10741it [00:04, 4879.88it/s]"
     ]
    },
    {
     "name": "stdout",
     "output_type": "stream",
     "text": [
      "   5506/Unknown \u001b[1m5s\u001b[0m 383us/step"
     ]
    },
    {
     "name": "stderr",
     "output_type": "stream",
     "text": [
      "Loading and processing data: 11233it [00:05, 4851.43it/s]"
     ]
    },
    {
     "name": "stdout",
     "output_type": "stream",
     "text": [
      "   5745/Unknown \u001b[1m5s\u001b[0m 385us/step"
     ]
    },
    {
     "name": "stderr",
     "output_type": "stream",
     "text": [
      "Loading and processing data: 11721it [00:05, 4829.04it/s]"
     ]
    },
    {
     "name": "stdout",
     "output_type": "stream",
     "text": [
      "   5986/Unknown \u001b[1m5s\u001b[0m 386us/step"
     ]
    },
    {
     "name": "stderr",
     "output_type": "stream",
     "text": [
      "Loading and processing data: 12206it [00:05, 4799.24it/s]"
     ]
    },
    {
     "name": "stdout",
     "output_type": "stream",
     "text": [
      "   6339/Unknown \u001b[1m5s\u001b[0m 388us/step"
     ]
    },
    {
     "name": "stderr",
     "output_type": "stream",
     "text": [
      "Loading and processing data: 12688it [00:05, 4763.35it/s]"
     ]
    },
    {
     "name": "stdout",
     "output_type": "stream",
     "text": [
      "   6594/Unknown \u001b[1m5s\u001b[0m 388us/step"
     ]
    },
    {
     "name": "stderr",
     "output_type": "stream",
     "text": [
      "Loading and processing data: 13194it [00:05, 4848.76it/s]"
     ]
    },
    {
     "name": "stdout",
     "output_type": "stream",
     "text": [
      "   6860/Unknown \u001b[1m6s\u001b[0m 388us/step"
     ]
    },
    {
     "name": "stderr",
     "output_type": "stream",
     "text": [
      "Loading and processing data: 13724it [00:05, 4979.79it/s]"
     ]
    },
    {
     "name": "stdout",
     "output_type": "stream",
     "text": [
      "   7126/Unknown \u001b[1m6s\u001b[0m 388us/step"
     ]
    },
    {
     "name": "stderr",
     "output_type": "stream",
     "text": [
      "Loading and processing data: 14254it [00:05, 5072.59it/s]"
     ]
    },
    {
     "name": "stdout",
     "output_type": "stream",
     "text": [
      "   7392/Unknown \u001b[1m6s\u001b[0m 387us/step"
     ]
    },
    {
     "name": "stderr",
     "output_type": "stream",
     "text": [
      "Loading and processing data: 14786it [00:05, 5141.08it/s]"
     ]
    },
    {
     "name": "stdout",
     "output_type": "stream",
     "text": [
      "   7655/Unknown \u001b[1m6s\u001b[0m 387us/step"
     ]
    },
    {
     "name": "stderr",
     "output_type": "stream",
     "text": [
      "Loading and processing data: 15312it [00:05, 5174.03it/s]"
     ]
    },
    {
     "name": "stdout",
     "output_type": "stream",
     "text": [
      "   7911/Unknown \u001b[1m6s\u001b[0m 387us/step"
     ]
    },
    {
     "name": "stderr",
     "output_type": "stream",
     "text": [
      "Loading and processing data: 15830it [00:06, 5153.09it/s]"
     ]
    },
    {
     "name": "stdout",
     "output_type": "stream",
     "text": [
      "   8165/Unknown \u001b[1m6s\u001b[0m 387us/step"
     ]
    },
    {
     "name": "stderr",
     "output_type": "stream",
     "text": [
      "Loading and processing data: 16346it [00:06, 5128.26it/s]"
     ]
    },
    {
     "name": "stdout",
     "output_type": "stream",
     "text": [
      "   8429/Unknown \u001b[1m6s\u001b[0m 387us/step"
     ]
    },
    {
     "name": "stderr",
     "output_type": "stream",
     "text": [
      "Loading and processing data: 16872it [00:06, 5166.10it/s]"
     ]
    },
    {
     "name": "stdout",
     "output_type": "stream",
     "text": [
      "   8693/Unknown \u001b[1m6s\u001b[0m 387us/step"
     ]
    },
    {
     "name": "stderr",
     "output_type": "stream",
     "text": [
      "Loading and processing data: 17400it [00:06, 5197.38it/s]"
     ]
    },
    {
     "name": "stdout",
     "output_type": "stream",
     "text": [
      "   8947/Unknown \u001b[1m6s\u001b[0m 387us/step"
     ]
    },
    {
     "name": "stderr",
     "output_type": "stream",
     "text": [
      "Loading and processing data: 17920it [00:06, 5156.57it/s]"
     ]
    },
    {
     "name": "stdout",
     "output_type": "stream",
     "text": [
      "   9208/Unknown \u001b[1m7s\u001b[0m 387us/step"
     ]
    },
    {
     "name": "stderr",
     "output_type": "stream",
     "text": [
      "Loading and processing data: 18442it [00:06, 5173.11it/s]"
     ]
    },
    {
     "name": "stdout",
     "output_type": "stream",
     "text": [
      "   9467/Unknown \u001b[1m7s\u001b[0m 387us/step"
     ]
    },
    {
     "name": "stderr",
     "output_type": "stream",
     "text": [
      "Loading and processing data: 18960it [00:06, 5160.12it/s]"
     ]
    },
    {
     "name": "stdout",
     "output_type": "stream",
     "text": [
      "   9731/Unknown \u001b[1m7s\u001b[0m 387us/step"
     ]
    },
    {
     "name": "stderr",
     "output_type": "stream",
     "text": [
      "Loading and processing data: 19486it [00:06, 5188.87it/s]"
     ]
    },
    {
     "name": "stdout",
     "output_type": "stream",
     "text": [
      "   9986/Unknown \u001b[1m7s\u001b[0m 387us/step"
     ]
    },
    {
     "name": "stderr",
     "output_type": "stream",
     "text": [
      "Loading and processing data: 20005it [00:06, 5158.64it/s]"
     ]
    },
    {
     "name": "stdout",
     "output_type": "stream",
     "text": [
      "  10250/Unknown \u001b[1m7s\u001b[0m 387us/step"
     ]
    },
    {
     "name": "stderr",
     "output_type": "stream",
     "text": [
      "Loading and processing data: 20530it [00:06, 5185.06it/s]"
     ]
    },
    {
     "name": "stdout",
     "output_type": "stream",
     "text": [
      "  10518/Unknown \u001b[1m7s\u001b[0m 387us/step"
     ]
    },
    {
     "name": "stderr",
     "output_type": "stream",
     "text": [
      "Loading and processing data: 21064it [00:07, 5227.16it/s]"
     ]
    },
    {
     "name": "stdout",
     "output_type": "stream",
     "text": [
      "  10775/Unknown \u001b[1m7s\u001b[0m 387us/step"
     ]
    },
    {
     "name": "stderr",
     "output_type": "stream",
     "text": [
      "Loading and processing data: 21587it [00:07, 5196.65it/s]"
     ]
    },
    {
     "name": "stdout",
     "output_type": "stream",
     "text": [
      "  11032/Unknown \u001b[1m7s\u001b[0m 387us/step"
     ]
    },
    {
     "name": "stderr",
     "output_type": "stream",
     "text": [
      "Loading and processing data: 22107it [00:07, 5171.38it/s]"
     ]
    },
    {
     "name": "stdout",
     "output_type": "stream",
     "text": [
      "  11288/Unknown \u001b[1m7s\u001b[0m 387us/step"
     ]
    },
    {
     "name": "stderr",
     "output_type": "stream",
     "text": [
      "Loading and processing data: 22625it [00:07, 5154.73it/s]"
     ]
    },
    {
     "name": "stdout",
     "output_type": "stream",
     "text": [
      "  11548/Unknown \u001b[1m7s\u001b[0m 387us/step"
     ]
    },
    {
     "name": "stderr",
     "output_type": "stream",
     "text": [
      "Loading and processing data: 23144it [00:07, 5161.19it/s]"
     ]
    },
    {
     "name": "stdout",
     "output_type": "stream",
     "text": [
      "  11808/Unknown \u001b[1m8s\u001b[0m 387us/step"
     ]
    },
    {
     "name": "stderr",
     "output_type": "stream",
     "text": [
      "Loading and processing data: 23664it [00:07, 5170.02it/s]"
     ]
    },
    {
     "name": "stdout",
     "output_type": "stream",
     "text": [
      "  12074/Unknown \u001b[1m8s\u001b[0m 387us/step"
     ]
    },
    {
     "name": "stderr",
     "output_type": "stream",
     "text": [
      "Loading and processing data: 24194it [00:07, 5204.85it/s]"
     ]
    },
    {
     "name": "stdout",
     "output_type": "stream",
     "text": [
      "  12340/Unknown \u001b[1m8s\u001b[0m 387us/step"
     ]
    },
    {
     "name": "stderr",
     "output_type": "stream",
     "text": [
      "Loading and processing data: 24724it [00:07, 5232.04it/s]"
     ]
    },
    {
     "name": "stdout",
     "output_type": "stream",
     "text": [
      "  12606/Unknown \u001b[1m8s\u001b[0m 386us/step"
     ]
    },
    {
     "name": "stderr",
     "output_type": "stream",
     "text": [
      "Loading and processing data: 25255it [00:07, 5255.30it/s]"
     ]
    },
    {
     "name": "stdout",
     "output_type": "stream",
     "text": [
      "  12868/Unknown \u001b[1m8s\u001b[0m 386us/step"
     ]
    },
    {
     "name": "stderr",
     "output_type": "stream",
     "text": [
      "Loading and processing data: 25781it [00:07, 5238.10it/s]"
     ]
    },
    {
     "name": "stdout",
     "output_type": "stream",
     "text": [
      "  13124/Unknown \u001b[1m8s\u001b[0m 386us/step"
     ]
    },
    {
     "name": "stderr",
     "output_type": "stream",
     "text": [
      "Loading and processing data: 26305it [00:08, 5198.62it/s]"
     ]
    },
    {
     "name": "stdout",
     "output_type": "stream",
     "text": [
      "  13383/Unknown \u001b[1m8s\u001b[0m 386us/step"
     ]
    },
    {
     "name": "stderr",
     "output_type": "stream",
     "text": [
      "Loading and processing data: 26825it [00:08, 5193.90it/s]"
     ]
    },
    {
     "name": "stdout",
     "output_type": "stream",
     "text": [
      "  13647/Unknown \u001b[1m8s\u001b[0m 386us/step"
     ]
    },
    {
     "name": "stderr",
     "output_type": "stream",
     "text": [
      "Loading and processing data: 27352it [00:08, 5212.81it/s]"
     ]
    },
    {
     "name": "stdout",
     "output_type": "stream",
     "text": [
      "  13909/Unknown \u001b[1m8s\u001b[0m 386us/step"
     ]
    },
    {
     "name": "stderr",
     "output_type": "stream",
     "text": [
      "Loading and processing data: 27874it [00:08, 5211.64it/s]"
     ]
    },
    {
     "name": "stdout",
     "output_type": "stream",
     "text": [
      "  14171/Unknown \u001b[1m8s\u001b[0m 386us/step"
     ]
    },
    {
     "name": "stderr",
     "output_type": "stream",
     "text": [
      "Loading and processing data: 28396it [00:08, 5209.82it/s]"
     ]
    },
    {
     "name": "stdout",
     "output_type": "stream",
     "text": [
      "  14434/Unknown \u001b[1m9s\u001b[0m 386us/step"
     ]
    },
    {
     "name": "stderr",
     "output_type": "stream",
     "text": [
      "Loading and processing data: 28922it [00:08, 5222.70it/s]"
     ]
    },
    {
     "name": "stdout",
     "output_type": "stream",
     "text": [
      "  14698/Unknown \u001b[1m9s\u001b[0m 386us/step"
     ]
    },
    {
     "name": "stderr",
     "output_type": "stream",
     "text": [
      "Loading and processing data: 29450it [00:08, 5235.26it/s]"
     ]
    },
    {
     "name": "stdout",
     "output_type": "stream",
     "text": [
      "  14962/Unknown \u001b[1m9s\u001b[0m 386us/step"
     ]
    },
    {
     "name": "stderr",
     "output_type": "stream",
     "text": [
      "Loading and processing data: 29978it [00:08, 5243.25it/s]"
     ]
    },
    {
     "name": "stdout",
     "output_type": "stream",
     "text": [
      "  15223/Unknown \u001b[1m9s\u001b[0m 386us/step"
     ]
    },
    {
     "name": "stderr",
     "output_type": "stream",
     "text": [
      "Loading and processing data: 30503it [00:08, 5233.64it/s]"
     ]
    },
    {
     "name": "stdout",
     "output_type": "stream",
     "text": [
      "  15484/Unknown \u001b[1m9s\u001b[0m 386us/step"
     ]
    },
    {
     "name": "stderr",
     "output_type": "stream",
     "text": [
      "Loading and processing data: 31027it [00:08, 5217.72it/s]"
     ]
    },
    {
     "name": "stdout",
     "output_type": "stream",
     "text": [
      "  15740/Unknown \u001b[1m9s\u001b[0m 386us/step"
     ]
    },
    {
     "name": "stderr",
     "output_type": "stream",
     "text": [
      "Loading and processing data: 31549it [00:09, 5186.81it/s]"
     ]
    },
    {
     "name": "stdout",
     "output_type": "stream",
     "text": [
      "  16001/Unknown \u001b[1m9s\u001b[0m 386us/step"
     ]
    },
    {
     "name": "stderr",
     "output_type": "stream",
     "text": [
      "Loading and processing data: 32070it [00:09, 5188.24it/s]"
     ]
    },
    {
     "name": "stdout",
     "output_type": "stream",
     "text": [
      "  16264/Unknown \u001b[1m9s\u001b[0m 386us/step"
     ]
    },
    {
     "name": "stderr",
     "output_type": "stream",
     "text": [
      "Loading and processing data: 32592it [00:09, 5196.01it/s]"
     ]
    },
    {
     "name": "stdout",
     "output_type": "stream",
     "text": [
      "  16525/Unknown \u001b[1m9s\u001b[0m 386us/step"
     ]
    },
    {
     "name": "stderr",
     "output_type": "stream",
     "text": [
      "Loading and processing data: 33116it [00:09, 5204.70it/s]"
     ]
    },
    {
     "name": "stdout",
     "output_type": "stream",
     "text": [
      "  16787/Unknown \u001b[1m9s\u001b[0m 386us/step"
     ]
    },
    {
     "name": "stderr",
     "output_type": "stream",
     "text": [
      "Loading and processing data: 33640it [00:09, 5211.25it/s]"
     ]
    },
    {
     "name": "stdout",
     "output_type": "stream",
     "text": [
      "  17049/Unknown \u001b[1m10s\u001b[0m 386us/step"
     ]
    },
    {
     "name": "stderr",
     "output_type": "stream",
     "text": [
      "Loading and processing data: 34162it [00:09, 5207.22it/s]"
     ]
    },
    {
     "name": "stdout",
     "output_type": "stream",
     "text": [
      "  17314/Unknown \u001b[1m10s\u001b[0m 386us/step"
     ]
    },
    {
     "name": "stderr",
     "output_type": "stream",
     "text": [
      "Loading and processing data: 34692it [00:09, 5229.19it/s]"
     ]
    },
    {
     "name": "stdout",
     "output_type": "stream",
     "text": [
      "  17579/Unknown \u001b[1m10s\u001b[0m 386us/step"
     ]
    },
    {
     "name": "stderr",
     "output_type": "stream",
     "text": [
      "Loading and processing data: 35220it [00:09, 5243.57it/s]"
     ]
    },
    {
     "name": "stdout",
     "output_type": "stream",
     "text": [
      "  17839/Unknown \u001b[1m10s\u001b[0m 386us/step"
     ]
    },
    {
     "name": "stderr",
     "output_type": "stream",
     "text": [
      "Loading and processing data: 35745it [00:09, 5218.84it/s]"
     ]
    },
    {
     "name": "stdout",
     "output_type": "stream",
     "text": [
      "  18102/Unknown \u001b[1m10s\u001b[0m 386us/step"
     ]
    },
    {
     "name": "stderr",
     "output_type": "stream",
     "text": [
      "Loading and processing data: 36268it [00:09, 5220.39it/s]"
     ]
    },
    {
     "name": "stdout",
     "output_type": "stream",
     "text": [
      "  18361/Unknown \u001b[1m10s\u001b[0m 386us/step"
     ]
    },
    {
     "name": "stderr",
     "output_type": "stream",
     "text": [
      "Loading and processing data: 36791it [00:10, 5208.10it/s]"
     ]
    },
    {
     "name": "stdout",
     "output_type": "stream",
     "text": [
      "  18619/Unknown \u001b[1m10s\u001b[0m 386us/step"
     ]
    },
    {
     "name": "stderr",
     "output_type": "stream",
     "text": [
      "Loading and processing data: 37312it [00:10, 5185.06it/s]"
     ]
    },
    {
     "name": "stdout",
     "output_type": "stream",
     "text": [
      "  18879/Unknown \u001b[1m10s\u001b[0m 386us/step"
     ]
    },
    {
     "name": "stderr",
     "output_type": "stream",
     "text": [
      "Loading and processing data: 37831it [00:10, 5182.10it/s]"
     ]
    },
    {
     "name": "stdout",
     "output_type": "stream",
     "text": [
      "  19140/Unknown \u001b[1m10s\u001b[0m 386us/step"
     ]
    },
    {
     "name": "stderr",
     "output_type": "stream",
     "text": [
      "Loading and processing data: 38352it [00:10, 5187.90it/s]"
     ]
    },
    {
     "name": "stdout",
     "output_type": "stream",
     "text": [
      "  19401/Unknown \u001b[1m10s\u001b[0m 386us/step"
     ]
    },
    {
     "name": "stderr",
     "output_type": "stream",
     "text": [
      "Loading and processing data: 38872it [00:10, 5189.36it/s]"
     ]
    },
    {
     "name": "stdout",
     "output_type": "stream",
     "text": [
      "  19663/Unknown \u001b[1m11s\u001b[0m 386us/step"
     ]
    },
    {
     "name": "stderr",
     "output_type": "stream",
     "text": [
      "Loading and processing data: 39391it [00:10, 5096.93it/s]"
     ]
    },
    {
     "name": "stdout",
     "output_type": "stream",
     "text": [
      "  19868/Unknown \u001b[1m11s\u001b[0m 387us/step"
     ]
    },
    {
     "name": "stderr",
     "output_type": "stream",
     "text": [
      "Loading and processing data: 39902it [00:10, 4878.38it/s]"
     ]
    },
    {
     "name": "stdout",
     "output_type": "stream",
     "text": [
      "  20119/Unknown \u001b[1m11s\u001b[0m 387us/step"
     ]
    },
    {
     "name": "stderr",
     "output_type": "stream",
     "text": [
      "Loading and processing data: 40408it [00:10, 4928.44it/s]"
     ]
    },
    {
     "name": "stdout",
     "output_type": "stream",
     "text": [
      "  20368/Unknown \u001b[1m11s\u001b[0m 387us/step"
     ]
    },
    {
     "name": "stderr",
     "output_type": "stream",
     "text": [
      "Loading and processing data: 40904it [00:10, 4934.13it/s]"
     ]
    },
    {
     "name": "stdout",
     "output_type": "stream",
     "text": [
      "  20622/Unknown \u001b[1m11s\u001b[0m 387us/step"
     ]
    },
    {
     "name": "stderr",
     "output_type": "stream",
     "text": [
      "Loading and processing data: 41414it [00:10, 4981.49it/s]"
     ]
    },
    {
     "name": "stdout",
     "output_type": "stream",
     "text": [
      "  20868/Unknown \u001b[1m11s\u001b[0m 387us/step"
     ]
    },
    {
     "name": "stderr",
     "output_type": "stream",
     "text": [
      "Loading and processing data: 41914it [00:11, 4920.02it/s]"
     ]
    },
    {
     "name": "stdout",
     "output_type": "stream",
     "text": [
      "  21106/Unknown \u001b[1m11s\u001b[0m 388us/step"
     ]
    },
    {
     "name": "stderr",
     "output_type": "stream",
     "text": [
      "Loading and processing data: 42407it [00:11, 4866.57it/s]"
     ]
    },
    {
     "name": "stdout",
     "output_type": "stream",
     "text": [
      "  21344/Unknown \u001b[1m11s\u001b[0m 388us/step"
     ]
    },
    {
     "name": "stderr",
     "output_type": "stream",
     "text": [
      "Loading and processing data: 42895it [00:11, 4854.29it/s]"
     ]
    },
    {
     "name": "stdout",
     "output_type": "stream",
     "text": [
      "  21589/Unknown \u001b[1m11s\u001b[0m 388us/step"
     ]
    },
    {
     "name": "stderr",
     "output_type": "stream",
     "text": [
      "Loading and processing data: 43381it [00:11, 4835.68it/s]"
     ]
    },
    {
     "name": "stdout",
     "output_type": "stream",
     "text": [
      "  21832/Unknown \u001b[1m11s\u001b[0m 389us/step"
     ]
    },
    {
     "name": "stderr",
     "output_type": "stream",
     "text": [
      "Loading and processing data: 43874it [00:11, 4860.65it/s]"
     ]
    },
    {
     "name": "stdout",
     "output_type": "stream",
     "text": [
      "  22077/Unknown \u001b[1m12s\u001b[0m 389us/step"
     ]
    },
    {
     "name": "stderr",
     "output_type": "stream",
     "text": [
      "Loading and processing data: 44361it [00:11, 4840.66it/s]"
     ]
    },
    {
     "name": "stdout",
     "output_type": "stream",
     "text": [
      "  22312/Unknown \u001b[1m12s\u001b[0m 389us/step"
     ]
    },
    {
     "name": "stderr",
     "output_type": "stream",
     "text": [
      "Loading and processing data: 44846it [00:11, 4768.34it/s]"
     ]
    },
    {
     "name": "stdout",
     "output_type": "stream",
     "text": [
      "  22545/Unknown \u001b[1m12s\u001b[0m 390us/step"
     ]
    },
    {
     "name": "stderr",
     "output_type": "stream",
     "text": [
      "Loading and processing data: 45324it [00:11, 4769.60it/s]"
     ]
    },
    {
     "name": "stdout",
     "output_type": "stream",
     "text": [
      "  22794/Unknown \u001b[1m12s\u001b[0m 390us/step"
     ]
    },
    {
     "name": "stderr",
     "output_type": "stream",
     "text": [
      "Loading and processing data: 45844it [00:11, 4893.87it/s]"
     ]
    },
    {
     "name": "stdout",
     "output_type": "stream",
     "text": [
      "  23063/Unknown \u001b[1m12s\u001b[0m 390us/step"
     ]
    },
    {
     "name": "stderr",
     "output_type": "stream",
     "text": [
      "Loading and processing data: 46362it [00:11, 4975.25it/s]"
     ]
    },
    {
     "name": "stdout",
     "output_type": "stream",
     "text": [
      "  23309/Unknown \u001b[1m12s\u001b[0m 390us/step"
     ]
    },
    {
     "name": "stderr",
     "output_type": "stream",
     "text": [
      "Loading and processing data: 46860it [00:12, 4957.10it/s]"
     ]
    },
    {
     "name": "stdout",
     "output_type": "stream",
     "text": [
      "  23557/Unknown \u001b[1m12s\u001b[0m 390us/step"
     ]
    },
    {
     "name": "stderr",
     "output_type": "stream",
     "text": [
      "Loading and processing data: 47366it [00:12, 4985.54it/s]"
     ]
    },
    {
     "name": "stdout",
     "output_type": "stream",
     "text": [
      "  23817/Unknown \u001b[1m12s\u001b[0m 390us/step"
     ]
    },
    {
     "name": "stderr",
     "output_type": "stream",
     "text": [
      "Loading and processing data: 47865it [00:12, 4981.66it/s]"
     ]
    },
    {
     "name": "stdout",
     "output_type": "stream",
     "text": [
      "  24055/Unknown \u001b[1m12s\u001b[0m 390us/step"
     ]
    }
   ],
   "source": [
    "model = keras.saving.load_model('/home/jay/AI/YT_predict/2.0/YT_Transformer.keras')\n",
    "\n",
    "predictions = model.predict(data_generator(filepath, tokenizer, batch_size=2))\n"
   ]
  },
  {
   "cell_type": "code",
   "execution_count": null,
   "metadata": {
    "jukit_cell_id": "nNomoUvqzW"
   },
   "outputs": [],
   "source": [
    "# Make a line \n",
    "x = np.linspace(0,10,100)\n",
    "y = np.linspace(0,10,100)"
   ]
  },
  {
   "cell_type": "code",
   "execution_count": null,
   "metadata": {
    "jukit_cell_id": "NWJd7aQ28G"
   },
   "outputs": [],
   "source": [
    "#import seaborn as sns\n",
    "#import matplotlib.pyplot as plt\n",
    "#\n",
    "#\n",
    "#heatmap, xedges, yedges = np.histogram2d(y_test.flatten(), predictions.flatten(), bins=100)\n",
    "#\n",
    "#extent = [xedges[0], xedges[-1], yedges[0], yedges[-1]]\n",
    "#\n",
    "#\n",
    "#plt.imshow(heatmap.T, extent=extent, origin='lower')\n",
    "#plt.plot(x,y, 'r--')\n",
    "#plt.xlabel('Views Order of Magnitude')\n",
    "#plt.ylabel('Predicted Order of Magnitude')\n",
    "#plt.xlim(2,15)\n",
    "#plt.ylim(0,17)\n",
    "#plt.savefig(f'{actual_model_name}_heatmap_bonito.png')\n",
    "#\n",
    "#import matplotlib.pyplot as plt\n",
    "#\n",
    "#\n",
    "#plt.scatter(y_test, predictions, alpha=0.1, s=0.5)\n",
    "#plt.plot(x,y,'r--')\n",
    "#plt.xlabel('Actual View Count')\n",
    "#plt.ylabel('Predicted View Count')\n",
    "#plt.savefig(f'{actual_model_name}_scatter_bonit.png')"
   ]
  },
  {
   "cell_type": "code",
   "execution_count": null,
   "metadata": {
    "jukit_cell_id": "v61GjURvbq"
   },
   "outputs": [],
   "source": [
    "# If you need to convert an array of values\n",
    "y_test_e = np.exp(y_test)  # Assuming y_test was in loge form\n",
    "y_test_10 = np.log10(y_test_e)\n",
    "\n",
    "predictions_e = np.exp(predictions)  # Assuming predictions were in loge form\n",
    "predictions_10 = np.log10(predictions_e)\n",
    "\n",
    "y_test = y_test_10\n",
    "predictions = predictions_10"
   ]
  },
  {
   "cell_type": "code",
   "execution_count": null,
   "metadata": {
    "jukit_cell_id": "ohrretbeKu"
   },
   "outputs": [],
   "source": [
    "import seaborn as sns\n",
    "import matplotlib.pyplot as plt\n",
    "import numpy as np\n",
    "\n",
    "# Assuming y_test and predictions are available and in log form\n",
    "# Heatmap\n",
    "heatmap, xedges, yedges = np.histogram2d(y_test.flatten(), predictions.flatten(), bins=100)\n",
    "extent = [xedges[0], xedges[-1], yedges[0], yedges[-1]]\n",
    "\n",
    "plt.figure(figsize=(10, 8))\n",
    "sns.set(style=\"white\")\n",
    "\n",
    "# Using a colormap (e.g., 'viridis' which is visually appealing and colorblind-friendly)\n",
    "plt.imshow(heatmap.T, extent=extent, origin='lower', aspect='auto', cmap='viridis')\n",
    "\n",
    "# Assuming x, y for the red dashed line are defined correctly and correspond to log scale\n",
    "plt.plot(x, y, 'r--')\n",
    "\n",
    "plt.xlabel('Log of Actual View Count')\n",
    "plt.ylabel('Log of Predicted View Count')\n",
    "plt.colorbar(label='Count of Test')\n",
    "plt.title('Heatmap of Predictions vs Actual Views')\n",
    "plt.xlim(0, 9)\n",
    "plt.ylim(0, 9)\n",
    "\n",
    "# Adjusting x and y axis to show in 10^ format\n",
    "ax = plt.gca()\n",
    "ax.set_xticklabels([f'$10^{{{int(float(label))}}}$' for label in ax.get_xticks()])\n",
    "ax.set_yticklabels([f'$10^{{{int(float(label))}}}$' for label in ax.get_yticks()])\n",
    "\n",
    "plt.savefig(f'{actual_model_name}_heatmap_bonito.png')"
   ]
  },
  {
   "cell_type": "code",
   "execution_count": null,
   "metadata": {
    "jukit_cell_id": "sXLwhEE9CR"
   },
   "outputs": [],
   "source": [
    "plt.figure(figsize=(10, 8))\n",
    "sns.set(style=\"whitegrid\")\n",
    "\n",
    "# Scatter plot with adjustments for alpha and size for better visibility\n",
    "plt.scatter(y_test, predictions, alpha=0.2, s=10, cmap='viridis')\n",
    "\n",
    "plt.plot(x, y, 'r--')  # Assuming x, y for the red dashed line are correct\n",
    "\n",
    "plt.xlabel('Log of Actual View Count')\n",
    "plt.ylabel('Log of Predicted View Count')\n",
    "plt.title('Scatter Plot of Predicted vs Actual Views')\n",
    "plt.xlim(0, 9)\n",
    "plt.ylim(0, 9)\n",
    "\n",
    "\n",
    "# Adjust axis to reflect 10^x and 10^y\n",
    "ax = plt.gca()\n",
    "ax.set_xticklabels([f'$10^{{{int(float(label))}}}$' for label in ax.get_xticks()])\n",
    "ax.set_yticklabels([f'$10^{{{int(float(label))}}}$' for label in ax.get_yticks()])\n",
    "\n",
    "plt.savefig(f'{actual_model_name}_scatter_bonito.png')"
   ]
  },
  {
   "cell_type": "code",
   "execution_count": null,
   "metadata": {
    "jukit_cell_id": "9IRxPNoVbP"
   },
   "outputs": [],
   "source": []
  }
 ],
 "metadata": {
  "anaconda-cloud": {},
  "kernelspec": {
   "display_name": "Python 3 (ipykernel)",
   "language": "python",
   "name": "python3"
  }
 },
 "nbformat": 4,
 "nbformat_minor": 4
}
