{
 "cells": [
  {
   "cell_type": "code",
   "execution_count": 1,
   "metadata": {},
   "outputs": [
    {
     "name": "stderr",
     "output_type": "stream",
     "text": [
      "Processing: 100%|█████████▉| 53209620/53209647 [00:16<00:00, 3174278.73it/s]\n"
     ]
    }
   ],
   "source": [
    "import json\n",
    "from tqdm import tqdm\n",
    "\n",
    "def load_jsonl_to_memory(filepath, fraction=20):\n",
    "    # Determine the total number of lines to calculate the size of the fraction\n",
    "    with open(filepath, 'r', encoding='utf-8') as file:\n",
    "        total_lines = sum(1 for _ in file)\n",
    "    \n",
    "    # Calculate the number of lines to process based on the fraction\n",
    "    lines_to_process = total_lines // fraction\n",
    "    \n",
    "    # Preallocate the list with None values for the fraction of data\n",
    "    data = [None] * lines_to_process\n",
    "    \n",
    "    with open(filepath, 'r', encoding='utf-8') as file:\n",
    "        processed_lines = 0  # Keep track of how many lines have been processed\n",
    "        for index, line in enumerate(tqdm(file, total=total_lines, desc=\"Processing\")):\n",
    "            if index % fraction == 0:  # Process only every fraction-th line\n",
    "                # Parse the JSON content from the line and add it to the data list\n",
    "                data[processed_lines] = json.loads(line)\n",
    "                processed_lines += 1\n",
    "                if processed_lines >= lines_to_process:\n",
    "                    break  # Stop if we've processed the intended number of lines\n",
    "    \n",
    "    return data\n",
    "\n",
    "data = load_jsonl_to_memory('/mnt/datassd/processed_file.jsonl')"
   ]
  },
  {
   "cell_type": "code",
   "execution_count": 2,
   "metadata": {},
   "outputs": [
    {
     "name": "stderr",
     "output_type": "stream",
     "text": [
      "2024-03-07 01:30:36.184819: E external/local_xla/xla/stream_executor/cuda/cuda_dnn.cc:9261] Unable to register cuDNN factory: Attempting to register factory for plugin cuDNN when one has already been registered\n",
      "2024-03-07 01:30:36.184856: E external/local_xla/xla/stream_executor/cuda/cuda_fft.cc:607] Unable to register cuFFT factory: Attempting to register factory for plugin cuFFT when one has already been registered\n",
      "2024-03-07 01:30:36.194593: E external/local_xla/xla/stream_executor/cuda/cuda_blas.cc:1515] Unable to register cuBLAS factory: Attempting to register factory for plugin cuBLAS when one has already been registered\n",
      "2024-03-07 01:30:36.251486: I tensorflow/core/platform/cpu_feature_guard.cc:182] This TensorFlow binary is optimized to use available CPU instructions in performance-critical operations.\n",
      "To enable the following instructions: AVX2 FMA, in other operations, rebuild TensorFlow with the appropriate compiler flags.\n",
      "2024-03-07 01:30:37.325760: W tensorflow/compiler/tf2tensorrt/utils/py_utils.cc:38] TF-TRT Warning: Could not find TensorRT\n"
     ]
    }
   ],
   "source": [
    "from tensorflow.keras.preprocessing.text import Tokenizer\n",
    "from tensorflow.keras.preprocessing.sequence import pad_sequences\n",
    "import numpy as np\n",
    "from sklearn.model_selection import train_test_split\n",
    "\n",
    "# Assuming 'data' is your list of dictionaries\n",
    "titles = [item['title'] for item in data]\n",
    "view_counts = np.array([item['view_count'] for item in data])\n",
    "\n",
    "# Parameters for tokenization and padding\n",
    "vocab_size = 10000  # Adjust based on your dataset\n",
    "max_length = 100  # Adjust based on the length of your titles\n",
    "padding_type = 'post'\n",
    "trunc_type = 'post'\n",
    "\n",
    "# Initialize and fit the tokenizer\n",
    "tokenizer = Tokenizer(num_words=vocab_size, oov_token=\"<OOV>\")\n",
    "tokenizer.fit_on_texts(titles)\n",
    "\n",
    "# Convert titles to sequences and pad them\n",
    "sequences = tokenizer.texts_to_sequences(titles)\n",
    "padded_sequences = pad_sequences(sequences, maxlen=max_length, padding=padding_type, truncating=trunc_type)\n",
    "\n",
    "# Split the data into training and testing sets\n",
    "X_train, X_test, y_train, y_test = train_test_split(padded_sequences, view_counts, test_size=0.2, random_state=42)\n",
    "\n"
   ]
  },
  {
   "cell_type": "code",
   "execution_count": 8,
   "metadata": {},
   "outputs": [
    {
     "name": "stderr",
     "output_type": "stream",
     "text": [
      "/tmp/ipykernel_41845/3854255208.py:5: RuntimeWarning: divide by zero encountered in log\n",
      "  y_test_log = np.log(y_test)\n"
     ]
    },
    {
     "data": {
      "image/png": "[encoded data removed]",
      "text/plain": [
       "<Figure size 640x480 with 1 Axes>"
      ]
     },
     "metadata": {},
     "output_type": "display_data"
    }
   ],
   "source": [
    "# Histogram Y_test\n",
    "import matplotlib.pyplot as plt\n",
    "\n",
    "# Log of y_test\n",
    "y_test_log = np.log(y_test)\n",
    "y_test_log = np.where(y_test_log == -np.inf, 0, y_test_log)\n",
    "\n",
    "\n",
    "plt.hist(y_test_log, bins=100)\n",
    "plt.show()"
   ]
  },
  {
   "cell_type": "code",
   "execution_count": 9,
   "metadata": {},
   "outputs": [
    {
     "name": "stderr",
     "output_type": "stream",
     "text": [
      "/tmp/ipykernel_41845/2781598701.py:1: RuntimeWarning: divide by zero encountered in log\n",
      "  y_train_log = np.log(y_train)\n"
     ]
    },
    {
     "data": {
      "image/png": "[encoded data removed]",
      "text/plain": [
       "<Figure size 640x480 with 1 Axes>"
      ]
     },
     "metadata": {},
     "output_type": "display_data"
    }
   ],
   "source": [
    "y_train_log = np.log(y_train)\n",
    "y_train_log = np.where(y_train_log == -np.inf, 0, y_train_log)\n",
    "\n",
    "plt.hist(y_train_log, bins=100)\n",
    "plt.show()"
   ]
  },
  {
   "cell_type": "code",
   "execution_count": 10,
   "metadata": {},
   "outputs": [
    {
     "data": {
      "text/plain": [
       "array([[ 551, 1401,   10, ...,    0,    0,    0],\n",
       "       [3897,   14,    1, ...,    0,    0,    0],\n",
       "       [2521, 5992,  353, ...,    0,    0,    0],\n",
       "       ...,\n",
       "       [   1,    4,    6, ...,    0,    0,    0],\n",
       "       [  80,   24,  212, ...,    0,    0,    0],\n",
       "       [   1, 1709, 1685, ...,    0,    0,    0]], dtype=int32)"
      ]
     },
     "execution_count": 10,
     "metadata": {},
     "output_type": "execute_result"
    }
   ],
   "source": []
  }
 ],
 "metadata": {
  "kernelspec": {
   "display_name": "Python 3",
   "language": "python",
   "name": "python3"
  },
  "language_info": {
   "codemirror_mode": {
    "name": "ipython",
    "version": 3
   },
   "file_extension": ".py",
   "mimetype": "text/x-python",
   "name": "python",
   "nbconvert_exporter": "python",
   "pygments_lexer": "ipython3",
   "version": "3.11.8"
  }
 },
 "nbformat": 4,
 "nbformat_minor": 2
}
